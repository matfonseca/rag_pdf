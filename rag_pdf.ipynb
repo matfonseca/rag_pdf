{
 "cells": [
  {
   "cell_type": "code",
   "id": "initial_id",
   "metadata": {
    "collapsed": true
   },
   "source": [
    "from langchain.document_loaders import PyPDFLoader\n",
    "from langchain.text_splitter import RecursiveCharacterTextSplitter\n",
    "from langchain_community.embeddings.sentence_transformer import (\n",
    "    SentenceTransformerEmbeddings,\n",
    ")\n",
    "from langchain_chroma import Chroma\n",
    "from langchain.chains import RetrievalQA\n",
    "from langchain_ollama.llms import OllamaLLM"
   ],
   "outputs": [],
   "execution_count": null
  },
  {
   "metadata": {},
   "cell_type": "code",
   "outputs": [],
   "execution_count": null,
   "source": "pdf_path = \"./data/mining_of_massive_datasets.pdf\" #TODO: Change this to the path of the PDF file you want to use",
   "id": "1a3a15e597ef7a15"
  },
  {
   "metadata": {},
   "cell_type": "code",
   "source": [
    "loader = PyPDFLoader(pdf_path)\n",
    "docs = []\n",
    "docs.extend(loader.load())"
   ],
   "id": "e0df5c95ad825448",
   "outputs": [],
   "execution_count": null
  },
  {
   "metadata": {},
   "cell_type": "code",
   "source": [
    "text_splitter = RecursiveCharacterTextSplitter(\n",
    "    chunk_size = 1500,\n",
    "    chunk_overlap = 150\n",
    ")"
   ],
   "id": "3defc1b96ad203f",
   "outputs": [],
   "execution_count": null
  },
  {
   "metadata": {},
   "cell_type": "code",
   "source": [
    "docs = text_splitter.split_documents(docs)\n",
    "len(docs)"
   ],
   "id": "1d09c69bef95e01e",
   "outputs": [],
   "execution_count": null
  },
  {
   "metadata": {},
   "cell_type": "code",
   "source": "embedding_function = SentenceTransformerEmbeddings(model_name=\"all-MiniLM-L6-v2\")",
   "id": "7cf4ce46ac39386d",
   "outputs": [],
   "execution_count": null
  },
  {
   "metadata": {},
   "cell_type": "code",
   "source": "db = Chroma.from_documents(docs, embedding_function, persist_directory=\"./chroma_db\")",
   "id": "d95e105366f2d042",
   "outputs": [],
   "execution_count": null
  },
  {
   "metadata": {},
   "cell_type": "code",
   "source": "docs = db.similarity_search(\"What is data mining?\")",
   "id": "ca36cd229d7e3e93",
   "outputs": [],
   "execution_count": null
  },
  {
   "metadata": {},
   "cell_type": "code",
   "source": "db = Chroma(persist_directory=\"./chroma_db\", embedding_function=embedding_function)",
   "id": "b305fac722e601de",
   "outputs": [],
   "execution_count": null
  },
  {
   "metadata": {},
   "cell_type": "code",
   "source": "model = OllamaLLM(model=\"llama3\")",
   "id": "2aeed1637bafa7e3",
   "outputs": [],
   "execution_count": null
  },
  {
   "metadata": {},
   "cell_type": "code",
   "source": [
    "qa_chain = RetrievalQA.from_chain_type(\n",
    "    model,\n",
    "    retriever=db.as_retriever(k=10)\n",
    ")"
   ],
   "id": "4eff8c2e765f32ef",
   "outputs": [],
   "execution_count": null
  },
  {
   "metadata": {},
   "cell_type": "code",
   "source": [
    "question = \"What is data mining?\"\n",
    "result = qa_chain({\"query\": question})\n"
   ],
   "id": "788a4cdb8a18a989",
   "outputs": [],
   "execution_count": null
  },
  {
   "metadata": {},
   "cell_type": "code",
   "source": "print(result[\"result\"])",
   "id": "ef45d6bc090a94e0",
   "outputs": [],
   "execution_count": null
  }
 ],
 "metadata": {
  "kernelspec": {
   "display_name": "Python 3",
   "language": "python",
   "name": "python3"
  },
  "language_info": {
   "codemirror_mode": {
    "name": "ipython",
    "version": 2
   },
   "file_extension": ".py",
   "mimetype": "text/x-python",
   "name": "python",
   "nbconvert_exporter": "python",
   "pygments_lexer": "ipython2",
   "version": "2.7.6"
  }
 },
 "nbformat": 4,
 "nbformat_minor": 5
}
